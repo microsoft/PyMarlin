{
 "cells": [
  {
   "cell_type": "markdown",
   "metadata": {},
   "source": [
    "https://github.com/huggingface/transformers/tree/master/examples/seq2seq"
   ]
  },
  {
   "cell_type": "code",
   "execution_count": 43,
   "metadata": {},
   "outputs": [],
   "source": [
    "%reload_ext pymarlin.core"
   ]
  },
  {
   "cell_type": "markdown",
   "metadata": {},
   "source": [
    "# Data\n",
    "\n",
    "CNN Daily mail\n",
    "\n",
    "Download from https://cdn-datasets.huggingface.co/summarization/cnn_dm_v2.tgz -UseBasicParsing"
   ]
  },
  {
   "cell_type": "code",
   "execution_count": 1,
   "metadata": {},
   "outputs": [],
   "source": [
    "# # !powershell wget https://cdn-datasets.huggingface.co/summarization/cnn_dm_v2.tgz -UseBasicParsing\n",
    "\n",
    "# !powershell dir 'C:/Users/krkusuk/Downloads/'\n",
    "\n",
    "# !powershell tar -xzvf 'C:/Users/krkusuk/Downloads/cnn_dm_v2.tgz'  # empty lines removed\n",
    "\n",
    "# !powershell mv 'cnn_cln' 'D:/data'\n",
    "\n",
    "# !powershell dir 'D:/data/cnn_cln'"
   ]
  },
  {
   "cell_type": "code",
   "execution_count": 2,
   "metadata": {},
   "outputs": [
    {
     "data": {
      "text/plain": [
       "'(CNN)The only thing crazier than a guy in snowbound Massachusetts boxing up the powdery white stuff and offering it for sale online? People are actually buying it. For $89, self-styled entrepreneur Kyle Waring will ship you 6 pounds of Boston-area snow in an insulated Styrofoam box -- enough for 10 to 15 snowballs, he says. But not if you live in New England or surrounding states. \"We will not ship snow to any states in the northeast!\" says Waring\\'s website, ShipSnowYo.com. \"We\\'re in the business of expunging snow!\" His website and social media accounts claim to have filled more than 133 orders for snow -- more than 30 on Tuesday alone, his busiest day yet. With more than 45 total inches, Boston has set a record this winter for the snowiest month in its history. Most residents see the huge piles of snow choking their yards and sidewalks as a nuisance, but Waring saw an opportunity. According to Boston.com, it all started a few weeks ago, when Waring and his wife were shoveling deep snow from their yard in Manchester-by-the-Sea, a coastal suburb north of Boston. He joked about shipping the stuff to friends and family in warmer states, and an idea was born. His business slogan: \"Our nightmare is your dream!\" At first, ShipSnowYo sold snow packed into empty 16.9-ounce water bottles for $19.99, but the snow usually melted before it reached its destination. So this week, Waring began shipping larger amounts in the Styrofoam cubes, which he promises will arrive anywhere in the U.S. in less than 20 hours. He also has begun selling a 10-pound box of snow for $119. Many of his customers appear to be companies in warm-weather states who are buying the snow as a gag, he said. Whether Waring can sustain his gimmicky venture into the spring remains to be seen. But he has no shortage of product. \"At this rate, it\\'s going to be July until the snow melts,\" he told Boston.com. \"But I\\'ve thought about taking this idea and running with it for other seasonal items. Maybe I\\'ll ship some fall foliage.\"\\n'"
      ]
     },
     "execution_count": 2,
     "metadata": {},
     "output_type": "execute_result"
    }
   ],
   "source": [
    "import pandas as pd\n",
    "with open('D:/data/cnn_cln/val.source', 'r', encoding = 'UTF-8') as f: \n",
    "    source = f.readlines()\n",
    "source[0]"
   ]
  },
  {
   "cell_type": "code",
   "execution_count": 3,
   "metadata": {},
   "outputs": [
    {
     "data": {
      "text/plain": [
       "'A man in suburban Boston is selling snow online to customers in warmer states . For $89, he will ship 6 pounds of snow in an insulated Styrofoam box .\\n'"
      ]
     },
     "execution_count": 3,
     "metadata": {},
     "output_type": "execute_result"
    }
   ],
   "source": [
    "with open('D:/data/cnn_cln/val.target', 'r', encoding = 'UTF-8') as f: \n",
    "    target = f.readlines()\n",
    "target[0]"
   ]
  },
  {
   "cell_type": "code",
   "execution_count": 4,
   "metadata": {},
   "outputs": [
    {
     "data": {
      "text/plain": [
       "(13368, 13368)"
      ]
     },
     "execution_count": 4,
     "metadata": {},
     "output_type": "execute_result"
    }
   ],
   "source": [
    "len(source), len(target)"
   ]
  },
  {
   "cell_type": "code",
   "execution_count": 15,
   "metadata": {},
   "outputs": [],
   "source": [
    "import torch\n",
    "import marlin\n",
    "from pymarlin.core import *\n",
    "from pymarlin.core.data_module import DataModule"
   ]
  },
  {
   "cell_type": "markdown",
   "metadata": {},
   "source": [
    "## Data prepeocessing"
   ]
  },
  {
   "cell_type": "code",
   "execution_count": 16,
   "metadata": {},
   "outputs": [],
   "source": [
    "def get_source_target(root = 'D:/data/cnn_cln', stage = 'val'):\n",
    "\n",
    "    source = f'{root}/{stage}.source'\n",
    "    target = f'{root}/{stage}.target'\n",
    "    return source, target\n"
   ]
  },
  {
   "cell_type": "code",
   "execution_count": 17,
   "metadata": {},
   "outputs": [],
   "source": [
    "import pandas as pd\n",
    "import matplotlib.pyplot as plt"
   ]
  },
  {
   "cell_type": "code",
   "execution_count": 18,
   "metadata": {},
   "outputs": [],
   "source": [
    "class AnalyzeProcessor(data_module.DataProcessor):\n",
    "    def __init__(self, source, target):\n",
    "        with open(source, 'r', encoding = 'UTF-8') as f: \n",
    "            self.source = f.readlines()\n",
    "        with open(target, 'r', encoding = 'UTF-8') as f: \n",
    "            self.target = f.readlines()\n",
    "    def process(self):\n",
    "        pass\n",
    "    def analyze(self):\n",
    "        self.df = pd.DataFrame({'source':self.source, 'target': self.target})\n",
    "        display(self.df.head())\n",
    "        print('Word length analysis:')\n",
    "        wordlengths = processor.df.applymap(lambda x :  len(x.split()))\n",
    "        print(wordlengths.describe())\n",
    "        plt.plot(wordlengths)\n",
    "        plt.legend(['source','target'])\n",
    "\n",
    "        "
   ]
  },
  {
   "cell_type": "code",
   "execution_count": 23,
   "metadata": {},
   "outputs": [],
   "source": [
    "# processor = AnalyzeProcessor(*get_source_target())\n",
    "# processor.process()\n",
    "\n",
    "# processor.analyze()"
   ]
  },
  {
   "cell_type": "markdown",
   "metadata": {},
   "source": [
    "# DataModule"
   ]
  },
  {
   "cell_type": "code",
   "execution_count": 24,
   "metadata": {},
   "outputs": [],
   "source": [
    "class SummarizationDataset(torch.utils.data.Dataset):\n",
    "    def __init__(self, source, target):\n",
    "        with open(source, 'r', encoding = 'UTF-8') as f: \n",
    "            self.source = f.readlines()\n",
    "        with open(target, 'r', encoding = 'UTF-8') as f: \n",
    "            self.target = f.readlines()\n",
    "    def __getitem__(self, i):\n",
    "        return self.source[i].strip(), self.target[i].strip()\n",
    "    def __len__(self):\n",
    "        return len(self.target)\n",
    "        "
   ]
  },
  {
   "cell_type": "code",
   "execution_count": 25,
   "metadata": {},
   "outputs": [],
   "source": [
    "import marlin\n",
    "class SummarizationDataModule(pymarlin.core.data_module.DataModule):\n",
    "    '''\n",
    "    Class which expects input data to have different files for source and target. \n",
    "    Returns dataset which returns non tokenized source and target text.\n",
    "    '''\n",
    "    def __init__(self):\n",
    "        pass\n",
    "    def prepare_ds(self, root= 'D:/data/cnn_cln'):\n",
    "        self.root = root\n",
    "        self.train_ds = SummarizationDataset(*get_source_target(root, 'train'))\n",
    "        self.val_ds = SummarizationDataset(*get_source_target(root, 'val'))\n",
    "    def get_train_dataset(self, *args, **kwargs):\n",
    "        return self.train_ds\n",
    "\n",
    "    def get_val_dataset(self, *args, **kwargs):\n",
    "        return self.val_ds\n",
    "    def get_test_dataset(self, *args, **kwargs):\n",
    "        pass"
   ]
  },
  {
   "cell_type": "code",
   "execution_count": 26,
   "metadata": {},
   "outputs": [
    {
     "data": {
      "text/html": [
       "<div>\n",
       "<style scoped>\n",
       "    .dataframe tbody tr th:only-of-type {\n",
       "        vertical-align: middle;\n",
       "    }\n",
       "\n",
       "    .dataframe tbody tr th {\n",
       "        vertical-align: top;\n",
       "    }\n",
       "\n",
       "    .dataframe thead th {\n",
       "        text-align: right;\n",
       "    }\n",
       "</style>\n",
       "<table border=\"1\" class=\"dataframe\">\n",
       "  <thead>\n",
       "    <tr style=\"text-align: right;\">\n",
       "      <th></th>\n",
       "      <th>source</th>\n",
       "      <th>target</th>\n",
       "    </tr>\n",
       "  </thead>\n",
       "  <tbody>\n",
       "    <tr>\n",
       "      <th>0</th>\n",
       "      <td>(CNN)The only thing crazier than a guy in snow...</td>\n",
       "      <td>A man in suburban Boston is selling snow onlin...</td>\n",
       "    </tr>\n",
       "    <tr>\n",
       "      <th>1</th>\n",
       "      <td>(CNN)On the 6th of April 1996, San Jose Clash ...</td>\n",
       "      <td>The 20th MLS season begins this weekend . Leag...</td>\n",
       "    </tr>\n",
       "    <tr>\n",
       "      <th>2</th>\n",
       "      <td>(CNN)French striker Bafetimbi Gomis, who has a...</td>\n",
       "      <td>Bafetimbi Gomis collapses within 10 minutes of...</td>\n",
       "    </tr>\n",
       "    <tr>\n",
       "      <th>3</th>\n",
       "      <td>(CNN)My vote for Father of the Year goes to Cu...</td>\n",
       "      <td>Ruben Navarrette: Schilling deserves praise fo...</td>\n",
       "    </tr>\n",
       "    <tr>\n",
       "      <th>4</th>\n",
       "      <td>(CNN)It was an act of frustration perhaps more...</td>\n",
       "      <td>Rory McIlroy throws club into water at WGC Cad...</td>\n",
       "    </tr>\n",
       "  </tbody>\n",
       "</table>\n",
       "</div>"
      ],
      "text/plain": [
       "                                              source  \\\n",
       "0  (CNN)The only thing crazier than a guy in snow...   \n",
       "1  (CNN)On the 6th of April 1996, San Jose Clash ...   \n",
       "2  (CNN)French striker Bafetimbi Gomis, who has a...   \n",
       "3  (CNN)My vote for Father of the Year goes to Cu...   \n",
       "4  (CNN)It was an act of frustration perhaps more...   \n",
       "\n",
       "                                              target  \n",
       "0  A man in suburban Boston is selling snow onlin...  \n",
       "1  The 20th MLS season begins this weekend . Leag...  \n",
       "2  Bafetimbi Gomis collapses within 10 minutes of...  \n",
       "3  Ruben Navarrette: Schilling deserves praise fo...  \n",
       "4  Rory McIlroy throws club into water at WGC Cad...  "
      ]
     },
     "metadata": {},
     "output_type": "display_data"
    },
    {
     "name": "stdout",
     "output_type": "stream",
     "text": [
      "Word length analysis:\n",
      "             source        target\n",
      "count  13368.000000  13368.000000\n",
      "mean     676.026406     57.910084\n",
      "std      343.557667     25.613557\n",
      "min       41.000000     10.000000\n",
      "25%      413.750000     41.000000\n",
      "50%      608.000000     54.000000\n",
      "75%      868.000000     69.000000\n",
      "max     1917.000000   1440.000000\n"
     ]
    },
    {
     "data": {
      "text/plain": [
       "(None, None)"
      ]
     },
     "execution_count": 26,
     "metadata": {},
     "output_type": "execute_result"
    },
    {
     "data": {
      "image/png": "[encoded data removed]",
      "text/plain": [
       "<Figure size 432x288 with 1 Axes>"
      ]
     },
     "metadata": {
      "needs_background": "light"
     },
     "output_type": "display_data"
    }
   ],
   "source": [
    "dm= SummarizationDataModule()\n",
    "dm.process_data(AnalyzeProcessor(*get_source_target(stage='val')))"
   ]
  },
  {
   "cell_type": "markdown",
   "metadata": {},
   "source": [
    "The mean length is more than what Bart can accomodate. We will truncate for now and come up with more ideas later."
   ]
  },
  {
   "cell_type": "markdown",
   "metadata": {},
   "source": [
    "Feedback:\n",
    "1. __init__() missing 2 required positional arguments: 'config' and 'logger' - unnecesary error. Don't know what to pass"
   ]
  },
  {
   "cell_type": "code",
   "execution_count": 27,
   "metadata": {},
   "outputs": [
    {
     "data": {
      "text/plain": [
       "(287112,\n",
       " ('Editor\\'s note: In our Behind the Scenes series, CNN correspondents share their experiences in covering news and analyze the stories behind the events. Here, Soledad O\\'Brien takes users inside a jail where many of the inmates are mentally ill. An inmate housed on the \"forgotten floor,\" where many mentally ill inmates are housed in Miami before trial. MIAMI, Florida (CNN) -- The ninth floor of the Miami-Dade pretrial detention facility is dubbed the \"forgotten floor.\" Here, inmates with the most severe mental illnesses are incarcerated until they\\'re ready to appear in court. Most often, they face drug charges or charges of assaulting an officer --charges that Judge Steven Leifman says are usually \"avoidable felonies.\" He says the arrests often result from confrontations with police. Mentally ill people often won\\'t do what they\\'re told when police arrive on the scene -- confrontation seems to exacerbate their illness and they become more paranoid, delusional, and less likely to follow directions, according to Leifman. So, they end up on the ninth floor severely mentally disturbed, but not getting any real help because they\\'re in jail. We toured the jail with Leifman. He is well known in Miami as an advocate for justice and the mentally ill. Even though we were not exactly welcomed with open arms by the guards, we were given permission to shoot videotape and tour the floor.  Go inside the \\'forgotten floor\\' » . At first, it\\'s hard to determine where the people are. The prisoners are wearing sleeveless robes. Imagine cutting holes for arms and feet in a heavy wool sleeping bag -- that\\'s kind of what they look like. They\\'re designed to keep the mentally ill patients from injuring themselves. That\\'s also why they have no shoes, laces or mattresses. Leifman says about one-third of all people in Miami-Dade county jails are mentally ill. So, he says, the sheer volume is overwhelming the system, and the result is what we see on the ninth floor. Of course, it is a jail, so it\\'s not supposed to be warm and comforting, but the lights glare, the cells are tiny and it\\'s loud. We see two, sometimes three men -- sometimes in the robes, sometimes naked, lying or sitting in their cells. \"I am the son of the president. You need to get me out of here!\" one man shouts at me. He is absolutely serious, convinced that help is on the way -- if only he could reach the White House. Leifman tells me that these prisoner-patients will often circulate through the system, occasionally stabilizing in a mental hospital, only to return to jail to face their charges. It\\'s brutally unjust, in his mind, and he has become a strong advocate for changing things in Miami. Over a meal later, we talk about how things got this way for mental patients. Leifman says 200 years ago people were considered \"lunatics\" and they were locked up in jails even if they had no charges against them. They were just considered unfit to be in society. Over the years, he says, there was some public outcry, and the mentally ill were moved out of jails and into hospitals. But Leifman says many of these mental hospitals were so horrible they were shut down. Where did the patients go? Nowhere. The streets. They became, in many cases, the homeless, he says. They never got treatment. Leifman says in 1955 there were more than half a million people in state mental hospitals, and today that number has been reduced 90 percent, and 40,000 to 50,000 people are in mental hospitals. The judge says he\\'s working to change this. Starting in 2008, many inmates who would otherwise have been brought to the \"forgotten floor\"  will instead be sent to a new mental health facility -- the first step on a journey toward long-term treatment, not just punishment. Leifman says it\\'s not the complete answer, but it\\'s a start. Leifman says the best part is that it\\'s a win-win solution. The patients win, the families are relieved, and the state saves money by simply not cycling these prisoners through again and again. And, for Leifman, justice is served. E-mail to a friend .',\n",
       "  'Mentally ill inmates in Miami are housed on the \"forgotten floor\" Judge Steven Leifman says most are there as a result of \"avoidable felonies\" While CNN tours facility, patient shouts: \"I am the son of the president\" Leifman says the system is unjust and he\\'s fighting for change .'))"
      ]
     },
     "execution_count": 27,
     "metadata": {},
     "output_type": "execute_result"
    }
   ],
   "source": [
    "dm.prepare_ds()\n",
    "ds = dm.get_train_dataset()\n",
    "len(ds),ds[0]"
   ]
  },
  {
   "cell_type": "markdown",
   "metadata": {},
   "source": [
    "# TrainModule"
   ]
  },
  {
   "cell_type": "code",
   "execution_count": 31,
   "metadata": {},
   "outputs": [],
   "source": [
    "# pymarlin.core.train_module.TrainModule??\n",
    "from pymarlin.core import train_module"
   ]
  },
  {
   "cell_type": "code",
   "execution_count": 50,
   "metadata": {},
   "outputs": [],
   "source": [
    "from transformers import BartForConditionalGeneration, BartTokenizerFast\n",
    "from torch.utils.data import DataLoader\n",
    "#too long import \n",
    "from pymarlin.utils.stats.basic_stats import BasicStats\n",
    "class SummarizationBartTrainModule(train_module.TrainModule):\n",
    "    def __init__(self, data:SummarizationDataModule , max_length = 128, max_lr = 2E-5):\n",
    "        super().__init__()\n",
    "        self.model = BartForConditionalGeneration.from_pretrained('facebook/bart-base')\n",
    "        self.tokenizer = BartTokenizerFast.from_pretrained('facebook/bart-base')\n",
    "        self.max_lr = max_lr\n",
    "        self.max_length = max_length\n",
    "        self.data = data\n",
    "        self.stats = BasicStats.get_stats()\n",
    "    def get_optimizers_schedulers(\n",
    "        self, estimated_global_steps_per_epoch: int\n",
    "        ):\n",
    "        optimizer = torch.optim.Adam(self.model.parameters(),self.max_lr)\n",
    "        return [optimizer],[]\n",
    "    def get_train_dataloader(\n",
    "        self, sampler:torch.utils.data.Sampler, batch_size:int\n",
    "        ):\n",
    "        train_ds = self.data.get_train_dataset()\n",
    "        dl = DataLoader(train_ds, batch_size = batch_size, \n",
    "                        collate_fn= self.collate_fun, \n",
    "                        sampler = sampler(train_ds))\n",
    "        return dl\n",
    "    def get_val_dataloaders(\n",
    "        self, sampler:torch.utils.data.Sampler, batch_size : int\n",
    "    ):\n",
    "        val_ds = self.data.get_val_dataset()\n",
    "        dl = DataLoader(val_ds, batch_size = batch_size, \n",
    "                        collate_fn= self.collate_fun, \n",
    "                        sampler = sampler(val_ds))\n",
    "        return dl\n",
    "    def collate_fun(self,batch):\n",
    "        source, target = torch.utils.data._utils.collate.default_collate(batch)\n",
    "        #this is probably truncating. repeat positional embeddings and increase embedding layer size.\n",
    "        source_tokens = self.tokenizer(\n",
    "            list(source),\n",
    "            padding=True,\n",
    "            truncation=True,\n",
    "            return_tensors=\"pt\",\n",
    "            max_length = self.max_length\n",
    "        )\n",
    "        target_tokens = self.tokenizer(\n",
    "            list(target),\n",
    "            padding=True,\n",
    "            truncation=True,\n",
    "            return_tensors=\"pt\",\n",
    "            max_length = self.max_length\n",
    "        )\n",
    "        labels = target_tokens[\"input_ids\"]\n",
    "        labels[labels[:, :] == self.model.config.pad_token_id] = -100\n",
    "        source_tokens[\"labels\"] =labels\n",
    "        return source_tokens\n",
    "    def train_step(\n",
    "        self, global_step: int, batch, device\n",
    "        ):\n",
    "        batch = batch.to(device)\n",
    "        result = self.model.forward(**batch)\n",
    "        self.stats.update('train_loss', result.loss.item())\n",
    "        return result.loss\n",
    "    def val_step(self, global_step: int, batch, device):\n",
    "        batch = batch.to(device)\n",
    "        result = self.model.forward(**batch)\n",
    "        return result.loss\n",
    "        "
   ]
  },
  {
   "cell_type": "code",
   "execution_count": 51,
   "metadata": {},
   "outputs": [],
   "source": [
    "tm = SummarizationBartTrainModule(dm)"
   ]
  },
  {
   "cell_type": "markdown",
   "metadata": {},
   "source": [
    "# Trainer and Train manager"
   ]
  },
  {
   "cell_type": "code",
   "execution_count": 44,
   "metadata": {},
   "outputs": [],
   "source": [
    "from pymarlin.core import trainer, train_manager\n",
    "trainer = trainer.SingleProcess()"
   ]
  },
  {
   "cell_type": "code",
   "execution_count": 45,
   "metadata": {},
   "outputs": [],
   "source": [
    "tmArgs = train_manager.TrainManagerArgs()\n",
    "tmArgs.train_batch_size = 1\n",
    "tmArgs.val_batch_size = 1\n",
    "tmArgs.max_train_steps_per_epoch = 5\n",
    "tmArgs.max_val_steps_per_epoch = 5"
   ]
  },
  {
   "cell_type": "code",
   "execution_count": 46,
   "metadata": {},
   "outputs": [
    {
     "name": "stdout",
     "output_type": "stream",
     "text": [
      "SystemLog: 2021-01-15 16:20:26,733:WARNING : pymarlin.utils.writer.aml : 14 : AML writer failed to initialize.\n",
      "SystemLog: 2021-01-15 16:20:26,733:INFO : pymarlin.utils.writer.aml : 15 : run =  None\n",
      "SystemLog: 2021-01-15 16:20:26,741:INFO : pymarlin.utils.writer.tensorboard : 37 : Cleared directory logs (skipping azureml dirs)\n",
      "SystemLog: 2021-01-15 16:20:26,746:INFO : pymarlin.utils.writer.tensorboard : 40 : Created tensorboard folder logs : []\n"
     ]
    }
   ],
   "source": [
    "manager = train_manager.TrainManager(\n",
    "    trainer = trainer,\n",
    "    module= tm,\n",
    "    args = tmArgs\n",
    ")"
   ]
  },
  {
   "cell_type": "code",
   "execution_count": 47,
   "metadata": {},
   "outputs": [
    {
     "data": {
      "application/vnd.jupyter.widget-view+json": {
       "model_id": "6747ff15720d465a864b27c8ce665f36",
       "version_major": 2,
       "version_minor": 0
      },
      "text/plain": [
       "  0%|          | 0/1 [00:00<?, ?it/s]"
      ]
     },
     "metadata": {},
     "output_type": "display_data"
    },
    {
     "data": {
      "application/vnd.jupyter.widget-view+json": {
       "model_id": "709261f108724b2d8c12ddf006651247",
       "version_major": 2,
       "version_minor": 0
      },
      "text/plain": [
       "  0%|          | 0/287112 [00:00<?, ?batch/s]"
      ]
     },
     "metadata": {},
     "output_type": "display_data"
    },
    {
     "name": "stdout",
     "output_type": "stream",
     "text": [
      "Validating\n"
     ]
    },
    {
     "data": {
      "application/vnd.jupyter.widget-view+json": {
       "model_id": "340957e3393d4a19be3d0d0862e58d0f",
       "version_major": 2,
       "version_minor": 0
      },
      "text/plain": [
       "  0%|          | 0/13368 [00:00<?, ?it/s]"
      ]
     },
     "metadata": {},
     "output_type": "display_data"
    },
    {
     "name": "stdout",
     "output_type": "stream",
     "text": [
      "Finished training .. \n"
     ]
    }
   ],
   "source": [
    "manager.train()"
   ]
  },
  {
   "cell_type": "code",
   "execution_count": null,
   "metadata": {},
   "outputs": [],
   "source": []
  },
  {
   "cell_type": "code",
   "execution_count": null,
   "metadata": {},
   "outputs": [],
   "source": []
  },
  {
   "cell_type": "code",
   "execution_count": null,
   "metadata": {},
   "outputs": [],
   "source": []
  },
  {
   "cell_type": "code",
   "execution_count": null,
   "metadata": {},
   "outputs": [],
   "source": []
  },
  {
   "cell_type": "code",
   "execution_count": null,
   "metadata": {},
   "outputs": [],
   "source": []
  },
  {
   "cell_type": "code",
   "execution_count": null,
   "metadata": {},
   "outputs": [],
   "source": []
  },
  {
   "cell_type": "code",
   "execution_count": null,
   "metadata": {},
   "outputs": [],
   "source": []
  },
  {
   "cell_type": "code",
   "execution_count": null,
   "metadata": {},
   "outputs": [],
   "source": []
  },
  {
   "cell_type": "code",
   "execution_count": null,
   "metadata": {},
   "outputs": [],
   "source": []
  },
  {
   "cell_type": "code",
   "execution_count": null,
   "metadata": {},
   "outputs": [],
   "source": []
  },
  {
   "cell_type": "code",
   "execution_count": null,
   "metadata": {},
   "outputs": [],
   "source": []
  },
  {
   "cell_type": "code",
   "execution_count": null,
   "metadata": {},
   "outputs": [],
   "source": []
  },
  {
   "cell_type": "code",
   "execution_count": null,
   "metadata": {},
   "outputs": [],
   "source": []
  },
  {
   "cell_type": "code",
   "execution_count": null,
   "metadata": {},
   "outputs": [],
   "source": []
  },
  {
   "cell_type": "code",
   "execution_count": null,
   "metadata": {},
   "outputs": [],
   "source": []
  },
  {
   "cell_type": "code",
   "execution_count": null,
   "metadata": {},
   "outputs": [],
   "source": []
  }
 ],
 "metadata": {
  "kernelspec": {
   "display_name": "Python 3",
   "language": "python",
   "name": "python3"
  },
  "language_info": {
   "codemirror_mode": {
    "name": "ipython",
    "version": 3
   },
   "file_extension": ".py",
   "mimetype": "text/x-python",
   "name": "python",
   "nbconvert_exporter": "python",
   "pygments_lexer": "ipython3",
   "version": "3.8.5"
  }
 },
 "nbformat": 4,
 "nbformat_minor": 4
}

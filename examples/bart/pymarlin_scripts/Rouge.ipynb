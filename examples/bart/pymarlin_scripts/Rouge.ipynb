{
 "cells": [
  {
   "cell_type": "code",
   "execution_count": 1,
   "metadata": {},
   "outputs": [],
   "source": [
    "from rouge_score import rouge_scorer,scoring"
   ]
  },
  {
   "cell_type": "code",
   "execution_count": 13,
   "metadata": {},
   "outputs": [
    {
     "data": {
      "text/plain": [
       "{'rouge1': Score(precision=1.0, recall=0.6666666666666666, fmeasure=0.8),\n",
       " 'rouge2': Score(precision=0.6666666666666666, recall=0.4, fmeasure=0.5),\n",
       " 'rougeL': Score(precision=1.0, recall=0.6666666666666666, fmeasure=0.8)}"
      ]
     },
     "execution_count": 13,
     "metadata": {},
     "output_type": "execute_result"
    }
   ],
   "source": [
    "pred = \"My name is Krishan\"\n",
    "target= \"My full name is Krishan Subudhi\"\n",
    "\n",
    "scorer = rouge_scorer.RougeScorer(rouge_types=['rouge1','rouge2','rougeL'])\n",
    "aggregator = scoring.BootstrapAggregator()\n",
    "\n",
    "scorer.score(target, pred)"
   ]
  },
  {
   "cell_type": "code",
   "execution_count": 14,
   "metadata": {},
   "outputs": [],
   "source": [
    "aggregator.add_scores(scorer.score(target, pred))\n",
    "aggregator.add_scores(scorer.score(pred, target))"
   ]
  },
  {
   "cell_type": "code",
   "execution_count": 15,
   "metadata": {},
   "outputs": [
    {
     "data": {
      "text/plain": [
       "defaultdict(list,\n",
       "            {'rouge1': [Score(precision=1.0, recall=0.6666666666666666, fmeasure=0.8),\n",
       "              Score(precision=0.6666666666666666, recall=1.0, fmeasure=0.8)],\n",
       "             'rouge2': [Score(precision=0.6666666666666666, recall=0.4, fmeasure=0.5),\n",
       "              Score(precision=0.4, recall=0.6666666666666666, fmeasure=0.5)],\n",
       "             'rougeL': [Score(precision=1.0, recall=0.6666666666666666, fmeasure=0.8),\n",
       "              Score(precision=0.6666666666666666, recall=1.0, fmeasure=0.8)]})"
      ]
     },
     "execution_count": 15,
     "metadata": {},
     "output_type": "execute_result"
    }
   ],
   "source": [
    "aggregator._scores"
   ]
  },
  {
   "cell_type": "code",
   "execution_count": 17,
   "metadata": {},
   "outputs": [
    {
     "data": {
      "text/plain": [
       "{'rouge1': AggregateScore(low=Score(precision=0.6666666666666666, recall=0.6666666666666666, fmeasure=0.8), mid=Score(precision=0.8333333333333333, recall=0.8333333333333333, fmeasure=0.8), high=Score(precision=1.0, recall=1.0, fmeasure=0.8)),\n",
       " 'rouge2': AggregateScore(low=Score(precision=0.4, recall=0.4, fmeasure=0.5), mid=Score(precision=0.5333333333333333, recall=0.5333333333333333, fmeasure=0.5), high=Score(precision=0.6666666666666666, recall=0.6666666666666666, fmeasure=0.5)),\n",
       " 'rougeL': AggregateScore(low=Score(precision=0.6666666666666666, recall=0.6666666666666666, fmeasure=0.8), mid=Score(precision=0.8333333333333333, recall=0.8333333333333333, fmeasure=0.8), high=Score(precision=1.0, recall=1.0, fmeasure=0.8))}"
      ]
     },
     "execution_count": 17,
     "metadata": {},
     "output_type": "execute_result"
    }
   ],
   "source": [
    "a = aggregator.aggregate()\n",
    "a"
   ]
  },
  {
   "cell_type": "code",
   "execution_count": 20,
   "metadata": {},
   "outputs": [
    {
     "data": {
      "text/plain": [
       "Score(precision=0.8333333333333333, recall=0.8333333333333333, fmeasure=0.8)"
      ]
     },
     "execution_count": 20,
     "metadata": {},
     "output_type": "execute_result"
    }
   ],
   "source": [
    "a['rouge1'].mid"
   ]
  },
  {
   "cell_type": "code",
   "execution_count": null,
   "metadata": {},
   "outputs": [],
   "source": []
  }
 ],
 "metadata": {
  "kernelspec": {
   "display_name": "Python 3",
   "language": "python",
   "name": "python3"
  },
  "language_info": {
   "codemirror_mode": {
    "name": "ipython",
    "version": 3
   },
   "file_extension": ".py",
   "mimetype": "text/x-python",
   "name": "python",
   "nbconvert_exporter": "python",
   "pygments_lexer": "ipython3",
   "version": "3.8.5"
  }
 },
 "nbformat": 4,
 "nbformat_minor": 4
}
